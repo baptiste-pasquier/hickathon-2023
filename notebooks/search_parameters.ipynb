{
 "cells": [
  {
   "cell_type": "code",
   "execution_count": 1,
   "id": "e0adf59d-40af-4e9d-9db4-1b25d35b079a",
   "metadata": {},
   "outputs": [
    {
     "name": "stdout",
     "output_type": "stream",
     "text": [
      "Explained variance train : 0.797\n",
      "R2 score train : 0.797\n",
      "MAE score train : 35.316\n",
      "Explained variance test : 0.775\n",
      "R2 score test : 0.775\n",
      "MAE score test : 36.649\n"
     ]
    }
   ],
   "source": [
    "import numpy as np\n",
    "import xgboost\n",
    "from sklearn.metrics import explained_variance_score, mean_absolute_error, r2_score\n",
    "from sklearn.model_selection import train_test_split\n",
    "import pandas as pd\n",
    "\n",
    "# Modèle qui marche bien\n",
    "def f():\n",
    "    X_train = np.load(\"datasets/train/X_big.npy\", allow_pickle=True)\n",
    "    y_train = pd.read_csv(\"datasets/train/y_big.csv\")[\"energy_consumption_per_annum\"]\n",
    "    ind = np.where(abs(y_train) < 1000)\n",
    "    y_train = y_train[abs(y_train) < 1000]\n",
    "    X_train = X_train[ind]\n",
    "    X_train, X_test, y_train, y_test = train_test_split(\n",
    "        X_train, y_train, test_size=0.20\n",
    "    )\n",
    "    model = xgboost.XGBRegressor(\n",
    "        n_estimators=500, max_depth=5, eta=0.3, subsample=0.7, colsample_bytree=0.8\n",
    "    )\n",
    "    model.fit(X_train, y_train)\n",
    "    y_pred = model.predict(X_train)\n",
    "    print(f\"Explained variance train : {explained_variance_score(y_train, y_pred):.3f}\")\n",
    "    print(f\"R2 score train : {r2_score(y_train, y_pred):.3f}\")\n",
    "    print(f\"MAE score train : {mean_absolute_error(y_train, y_pred):.3f}\")\n",
    "    y_pred = model.predict(X_test)\n",
    "    print(f\"Explained variance test : {explained_variance_score(y_test, y_pred):.3f}\")\n",
    "    print(f\"R2 score test : {r2_score(y_test, y_pred):.3f}\")\n",
    "    print(f\"MAE score test : {mean_absolute_error(y_test, y_pred):.3f}\")\n",
    "\n",
    "\n",
    "f()"
   ]
  },
  {
   "cell_type": "code",
   "execution_count": 2,
   "id": "2c9f2a84-cd8f-473f-a1d7-09b1af377cf7",
   "metadata": {},
   "outputs": [],
   "source": [
    "import xgboost\n",
    "from sklearn.ensemble import GradientBoostingRegressor, RandomForestRegressor\n",
    "import pandas as pd\n",
    "import numpy as np\n",
    "from sklearn.metrics import explained_variance_score, mean_absolute_error, r2_score\n",
    "from sklearn.model_selection import (\n",
    "    train_test_split,\n",
    "    GridSearchCV,\n",
    "    RandomizedSearchCV,\n",
    "    ParameterGrid,\n",
    ")\n",
    "import datetime\n",
    "\n",
    "N_JOBS = 10"
   ]
  },
  {
   "cell_type": "code",
   "execution_count": 3,
   "id": "cae8c33d-39dd-4f12-8c5a-df9f9f8e2962",
   "metadata": {},
   "outputs": [],
   "source": [
    "X_train = np.load(\"datasets/train/X_big.npy\", allow_pickle=True)\n",
    "y_train = pd.read_csv(\"datasets/train/y_big.csv\")[\"energy_consumption_per_annum\"]"
   ]
  },
  {
   "cell_type": "code",
   "execution_count": 4,
   "id": "ca2cee71-9f91-4a53-b5cb-1595d83260c0",
   "metadata": {},
   "outputs": [],
   "source": [
    "ind = np.where(abs(y_train) < 1000)\n",
    "y_train = y_train[abs(y_train) < 1000]\n",
    "X_train = X_train[ind]"
   ]
  },
  {
   "cell_type": "code",
   "execution_count": 5,
   "id": "01a9dc28-ee3b-45b7-afb5-56c642f4f526",
   "metadata": {},
   "outputs": [
    {
     "data": {
      "text/plain": [
       "(1010268, 223)"
      ]
     },
     "execution_count": 5,
     "metadata": {},
     "output_type": "execute_result"
    }
   ],
   "source": [
    "X_train.shape"
   ]
  },
  {
   "cell_type": "code",
   "execution_count": 6,
   "id": "f5ad30c2-57cb-4f69-a439-2718f6d29112",
   "metadata": {},
   "outputs": [],
   "source": [
    "X_train, X_test, y_train, y_test = train_test_split(X_train, y_train, test_size=0.20)"
   ]
  },
  {
   "cell_type": "code",
   "execution_count": 7,
   "id": "7af28a0d",
   "metadata": {},
   "outputs": [],
   "source": [
    "def gridsearch(model, cv_params, X_train, y_train, scoring, n_iter=None, n_jobs=1):\n",
    "    grid_params = {key: value for key, value in cv_params.items()}\n",
    "    print(\"RandomizedSearchCV\" if n_iter else \"GridSearchCV\")\n",
    "    print(f\"Model : {model.__class__.__name__}\")\n",
    "    print(\"******************\")\n",
    "    print(f\"Number of total parameters combinations : {len(ParameterGrid(cv_params))}\")\n",
    "    if n_iter:\n",
    "        print(f\"Number of total parameters combinations tested : {n_iter}\\n\")\n",
    "\n",
    "    if not n_iter:\n",
    "        search = GridSearchCV(\n",
    "            model, grid_params, scoring=scoring, cv=3, verbose=1, n_jobs=n_jobs\n",
    "        )\n",
    "    else:\n",
    "        search = RandomizedSearchCV(\n",
    "            model,\n",
    "            grid_params,\n",
    "            n_iter=n_iter,\n",
    "            scoring=scoring,\n",
    "            cv=3,\n",
    "            verbose=1,\n",
    "            n_jobs=n_jobs,\n",
    "        )\n",
    "    clf = search.fit(X_train, y_train)\n",
    "\n",
    "    cv_results = pd.DataFrame(search.cv_results_).sort_values(\n",
    "        by=\"mean_test_score\", ascending=False\n",
    "    )\n",
    "\n",
    "    print(f\"Best params : {clf.best_params_}\")\n",
    "\n",
    "    print(\"Top 5 :\")\n",
    "    display(cv_results.head(5))\n",
    "    date = datetime.datetime.now().strftime(\"%Y-%m-%d_%H-%M-%S\")\n",
    "    filepath = f\"cv_results/{date}.pickle\"\n",
    "    cv_results.to_pickle(filepath)\n",
    "    print(f\"CV results saved in {filepath}\")"
   ]
  },
  {
   "cell_type": "code",
   "execution_count": 8,
   "id": "b2f85d70",
   "metadata": {},
   "outputs": [
    {
     "name": "stdout",
     "output_type": "stream",
     "text": [
      "GridSearchCV\n",
      "Model : XGBRegressor\n",
      "******************\n",
      "Number of total parameters combinations : 12\n",
      "Fitting 3 folds for each of 12 candidates, totalling 36 fits\n",
      "Best params : {'max_depth': 5, 'n_estimators': 700}\n",
      "Top 5 :\n"
     ]
    },
    {
     "data": {
      "text/html": [
       "<div>\n",
       "<style scoped>\n",
       "    .dataframe tbody tr th:only-of-type {\n",
       "        vertical-align: middle;\n",
       "    }\n",
       "\n",
       "    .dataframe tbody tr th {\n",
       "        vertical-align: top;\n",
       "    }\n",
       "\n",
       "    .dataframe thead th {\n",
       "        text-align: right;\n",
       "    }\n",
       "</style>\n",
       "<table border=\"1\" class=\"dataframe\">\n",
       "  <thead>\n",
       "    <tr style=\"text-align: right;\">\n",
       "      <th></th>\n",
       "      <th>mean_fit_time</th>\n",
       "      <th>std_fit_time</th>\n",
       "      <th>mean_score_time</th>\n",
       "      <th>std_score_time</th>\n",
       "      <th>param_max_depth</th>\n",
       "      <th>param_n_estimators</th>\n",
       "      <th>params</th>\n",
       "      <th>split0_test_score</th>\n",
       "      <th>split1_test_score</th>\n",
       "      <th>split2_test_score</th>\n",
       "      <th>mean_test_score</th>\n",
       "      <th>std_test_score</th>\n",
       "      <th>rank_test_score</th>\n",
       "    </tr>\n",
       "  </thead>\n",
       "  <tbody>\n",
       "    <tr>\n",
       "      <th>7</th>\n",
       "      <td>229.051931</td>\n",
       "      <td>0.115223</td>\n",
       "      <td>1.542183</td>\n",
       "      <td>0.024567</td>\n",
       "      <td>5</td>\n",
       "      <td>700</td>\n",
       "      <td>{'max_depth': 5, 'n_estimators': 700}</td>\n",
       "      <td>0.774769</td>\n",
       "      <td>0.774171</td>\n",
       "      <td>0.773438</td>\n",
       "      <td>0.774126</td>\n",
       "      <td>0.000544</td>\n",
       "      <td>1</td>\n",
       "    </tr>\n",
       "    <tr>\n",
       "      <th>11</th>\n",
       "      <td>270.552410</td>\n",
       "      <td>0.567286</td>\n",
       "      <td>1.636882</td>\n",
       "      <td>0.024094</td>\n",
       "      <td>6</td>\n",
       "      <td>700</td>\n",
       "      <td>{'max_depth': 6, 'n_estimators': 700}</td>\n",
       "      <td>0.773600</td>\n",
       "      <td>0.771555</td>\n",
       "      <td>0.773394</td>\n",
       "      <td>0.772850</td>\n",
       "      <td>0.000919</td>\n",
       "      <td>2</td>\n",
       "    </tr>\n",
       "    <tr>\n",
       "      <th>10</th>\n",
       "      <td>194.063862</td>\n",
       "      <td>0.277247</td>\n",
       "      <td>1.539046</td>\n",
       "      <td>0.020046</td>\n",
       "      <td>6</td>\n",
       "      <td>500</td>\n",
       "      <td>{'max_depth': 6, 'n_estimators': 500}</td>\n",
       "      <td>0.773349</td>\n",
       "      <td>0.771270</td>\n",
       "      <td>0.772756</td>\n",
       "      <td>0.772458</td>\n",
       "      <td>0.000875</td>\n",
       "      <td>3</td>\n",
       "    </tr>\n",
       "    <tr>\n",
       "      <th>6</th>\n",
       "      <td>164.742435</td>\n",
       "      <td>0.350668</td>\n",
       "      <td>1.504110</td>\n",
       "      <td>0.019978</td>\n",
       "      <td>5</td>\n",
       "      <td>500</td>\n",
       "      <td>{'max_depth': 5, 'n_estimators': 500}</td>\n",
       "      <td>0.772954</td>\n",
       "      <td>0.772324</td>\n",
       "      <td>0.771522</td>\n",
       "      <td>0.772267</td>\n",
       "      <td>0.000586</td>\n",
       "      <td>4</td>\n",
       "    </tr>\n",
       "    <tr>\n",
       "      <th>3</th>\n",
       "      <td>189.222854</td>\n",
       "      <td>0.551321</td>\n",
       "      <td>1.547090</td>\n",
       "      <td>0.024097</td>\n",
       "      <td>4</td>\n",
       "      <td>700</td>\n",
       "      <td>{'max_depth': 4, 'n_estimators': 700}</td>\n",
       "      <td>0.772797</td>\n",
       "      <td>0.771982</td>\n",
       "      <td>0.771815</td>\n",
       "      <td>0.772198</td>\n",
       "      <td>0.000429</td>\n",
       "      <td>5</td>\n",
       "    </tr>\n",
       "  </tbody>\n",
       "</table>\n",
       "</div>"
      ],
      "text/plain": [
       "    mean_fit_time  std_fit_time  mean_score_time  std_score_time  \\\n",
       "7      229.051931      0.115223         1.542183        0.024567   \n",
       "11     270.552410      0.567286         1.636882        0.024094   \n",
       "10     194.063862      0.277247         1.539046        0.020046   \n",
       "6      164.742435      0.350668         1.504110        0.019978   \n",
       "3      189.222854      0.551321         1.547090        0.024097   \n",
       "\n",
       "   param_max_depth param_n_estimators                                 params  \\\n",
       "7                5                700  {'max_depth': 5, 'n_estimators': 700}   \n",
       "11               6                700  {'max_depth': 6, 'n_estimators': 700}   \n",
       "10               6                500  {'max_depth': 6, 'n_estimators': 500}   \n",
       "6                5                500  {'max_depth': 5, 'n_estimators': 500}   \n",
       "3                4                700  {'max_depth': 4, 'n_estimators': 700}   \n",
       "\n",
       "    split0_test_score  split1_test_score  split2_test_score  mean_test_score  \\\n",
       "7            0.774769           0.774171           0.773438         0.774126   \n",
       "11           0.773600           0.771555           0.773394         0.772850   \n",
       "10           0.773349           0.771270           0.772756         0.772458   \n",
       "6            0.772954           0.772324           0.771522         0.772267   \n",
       "3            0.772797           0.771982           0.771815         0.772198   \n",
       "\n",
       "    std_test_score  rank_test_score  \n",
       "7         0.000544                1  \n",
       "11        0.000919                2  \n",
       "10        0.000875                3  \n",
       "6         0.000586                4  \n",
       "3         0.000429                5  "
      ]
     },
     "metadata": {},
     "output_type": "display_data"
    },
    {
     "name": "stdout",
     "output_type": "stream",
     "text": [
      "CV results saved in cv_results/2023-01-15_07-00-38.pickle\n"
     ]
    }
   ],
   "source": [
    "model = xgboost.XGBRegressor(\n",
    "    eta=0.3, subsample=0.7, colsample_bytree=0.8, n_jobs=N_JOBS\n",
    ")\n",
    "\n",
    "cv_params = {\"n_estimators\": [200, 300, 500, 700], \"max_depth\": [4, 5, 6]}\n",
    "\n",
    "regr = gridsearch(model, cv_params, X_train, y_train, \"explained_variance\")"
   ]
  },
  {
   "cell_type": "code",
   "execution_count": null,
   "id": "c18261af",
   "metadata": {},
   "outputs": [],
   "source": [
    "model = RandomForestRegressor(n_jobs=N_JOBS)\n",
    "\n",
    "cv_params = {\"n_estimators\": [200, 300, 500, 700], \"max_depth\": [4, 5, 6]}\n",
    "\n",
    "regr = gridsearch(model, cv_params, X_train, y_train, \"explained_variance\")"
   ]
  },
  {
   "cell_type": "code",
   "execution_count": null,
   "id": "80ae8f3e",
   "metadata": {},
   "outputs": [],
   "source": [
    "model = xgboost.XGBRegressor(n_jobs=N_JOBS)\n",
    "\n",
    "cv_params = {\n",
    "    \"n_estimators\": [300, 500],\n",
    "    \"max_depth\": [4, 5, 6],\n",
    "    \"subsample\": [0.3, 0.5, 0.7],\n",
    "    \"eta\": [0.1, 0.2, 0.3],\n",
    "    \"colsample_bytree\": [0.3, 0.5, 0.7],\n",
    "    \"max_leaves\": [0, 2, 10],\n",
    "}\n",
    "\n",
    "regr = gridsearch(model, cv_params, X_train, y_train, \"explained_variance\", n_iter=10)"
   ]
  },
  {
   "cell_type": "code",
   "execution_count": null,
   "id": "614847e3",
   "metadata": {},
   "outputs": [],
   "source": [
    "model = RandomForestRegressor(n_jobs=N_JOBS)\n",
    "\n",
    "cv_params = {\n",
    "    \"n_estimators\": [300, 500],\n",
    "    \"max_depth\": [4, 5, 6],\n",
    "    \"min_samples_split\": [2, 5, 10],\n",
    "    \"min_samples_leaf\": [2, 5, 10],\n",
    "}\n",
    "\n",
    "regr = gridsearch(model, cv_params, X_train, y_train, \"explained_variance\", n_iter=10)"
   ]
  },
  {
   "cell_type": "code",
   "execution_count": null,
   "id": "ef89b9da",
   "metadata": {},
   "outputs": [],
   "source": [
    "model = GradientBoostingRegressor()\n",
    "\n",
    "cv_params = {\n",
    "    \"n_estimators\": [300, 500],\n",
    "    \"max_depth\": [4, 5, 6],\n",
    "    \"subsample\": [0.3, 0.5, 0.7],\n",
    "    \"min_samples_split\": [2, 5, 10],\n",
    "    \"min_samples_leaf\": [2, 5, 10],\n",
    "}\n",
    "\n",
    "regr = gridsearch(\n",
    "    model, cv_params, X_train, y_train, \"explained_variance\", n_iter=10, n_jobs=N_JOBS\n",
    ")"
   ]
  },
  {
   "cell_type": "code",
   "execution_count": null,
   "id": "7dc6b9ba",
   "metadata": {},
   "outputs": [],
   "source": [
    "model = GradientBoostingRegressor()\n",
    "\n",
    "cv_params = {\"n_estimators\": [200, 300, 500, 700], \"max_depth\": [4, 5, 6]}\n",
    "\n",
    "regr = gridsearch(\n",
    "    model, cv_params, X_train, y_train, \"explained_variance\", n_jobs=N_JOBS\n",
    ")"
   ]
  }
 ],
 "metadata": {
  "kernelspec": {
   "display_name": "hickathon-2023-d9-A-QE_-py3.8",
   "language": "python",
   "name": "python3"
  },
  "language_info": {
   "codemirror_mode": {
    "name": "ipython",
    "version": 3
   },
   "file_extension": ".py",
   "mimetype": "text/x-python",
   "name": "python",
   "nbconvert_exporter": "python",
   "pygments_lexer": "ipython3",
   "version": "3.8.10 (tags/v3.8.10:3d8993a, May  3 2021, 11:48:03) [MSC v.1928 64 bit (AMD64)]"
  },
  "vscode": {
   "interpreter": {
    "hash": "f5ac5db4f6398972bc5bfe9444a387b0a9840aac3b1b2d33a1dcffc2a163c2a6"
   }
  }
 },
 "nbformat": 4,
 "nbformat_minor": 5
}
